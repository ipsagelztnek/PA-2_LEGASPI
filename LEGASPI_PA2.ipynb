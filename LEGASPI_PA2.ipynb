{
 "cells": [
  {
   "cell_type": "markdown",
   "id": "c9b697db-f3ef-4aab-9115-dce7f61c78e3",
   "metadata": {},
   "source": [
    "### NORMALIZATION PROBLEM\n",
    "Problem #1"
   ]
  },
  {
   "cell_type": "code",
   "execution_count": 2,
   "id": "5148de08-78d1-4771-a8e5-7539f1de6e16",
   "metadata": {},
   "outputs": [
    {
     "name": "stdout",
     "output_type": "stream",
     "text": [
      "Original Array:\n",
      " [[0.38408669 0.69208621 0.39396253 0.24752897 0.97801215]\n",
      " [0.29945459 0.92271605 0.97466518 0.68651119 0.91926829]\n",
      " [0.5808622  0.41883017 0.11535264 0.65939541 0.55022986]\n",
      " [0.09098015 0.64073132 0.27213455 0.70890733 0.63880206]\n",
      " [0.23433053 0.72447563 0.32177025 0.69841704 0.86926418]]\n",
      "\n",
      "Mean of X: 0.5609110076916916\n",
      "Standard Deviation of X: 0.26345793781762183\n",
      "\n",
      "Normalized Array:\n",
      " [[-0.67116717  0.4978981  -0.63368171 -1.18949551  1.58317927]\n",
      " [-0.9924029   1.37329339  1.57047525  0.47673715  1.36020683]\n",
      " [ 0.07572821 -0.53929231 -1.69119355  0.37381452 -0.04054212]\n",
      " [-1.78370355  0.30297175 -1.09610079  0.56174553  0.29564889]\n",
      " [-1.23959246  0.62083771 -0.90769995  0.52192785  1.17040758]]\n",
      "\n",
      "File 'X_normalized.npy' has been created.\n"
     ]
    }
   ],
   "source": [
    "import numpy as np\n",
    "\n",
    "# Generate a 5x5 array of random numbers (0 to 1)\n",
    "X = np.random.random((5, 5))\n",
    "\n",
    "# Calculate mean and standard deviation\n",
    "mean_value = np.average(X)\n",
    "std_value = np.sqrt(np.mean((X - mean_value) ** 2))\n",
    "\n",
    "# Apply normalization: (X - mean) / std\n",
    "Z = (X - mean_value) / std_value\n",
    "\n",
    "# Save the normalized array into a .npy file\n",
    "np.save(\"X_normalized.npy\", Z)\n",
    "\n",
    "# Display results\n",
    "print(\"Original Array:\\n\", X)\n",
    "print(\"\\nMean of X:\", mean_value)\n",
    "print(\"Standard Deviation of X:\", std_value)\n",
    "print(\"\\nNormalized Array:\\n\", Z)\n",
    "print(\"\\nFile 'X_normalized.npy' has been created.\")\n"
   ]
  },
  {
   "cell_type": "markdown",
   "id": "74ebc803-6439-4883-b432-03f94ef3d64d",
   "metadata": {},
   "source": [
    "### Divisible by 3 Problem\n",
    "\n",
    "Problem #2"
   ]
  },
  {
   "cell_type": "code",
   "execution_count": 7,
   "id": "64878659-a5d4-406d-b7d6-225e854d3c96",
   "metadata": {},
   "outputs": [
    {
     "name": "stdout",
     "output_type": "stream",
     "text": [
      "10x10 Array (squares of first 100 integers):\n",
      " [[    1     4     9    16    25    36    49    64    81   100]\n",
      " [  121   144   169   196   225   256   289   324   361   400]\n",
      " [  441   484   529   576   625   676   729   784   841   900]\n",
      " [  961  1024  1089  1156  1225  1296  1369  1444  1521  1600]\n",
      " [ 1681  1764  1849  1936  2025  2116  2209  2304  2401  2500]\n",
      " [ 2601  2704  2809  2916  3025  3136  3249  3364  3481  3600]\n",
      " [ 3721  3844  3969  4096  4225  4356  4489  4624  4761  4900]\n",
      " [ 5041  5184  5329  5476  5625  5776  5929  6084  6241  6400]\n",
      " [ 6561  6724  6889  7056  7225  7396  7569  7744  7921  8100]\n",
      " [ 8281  8464  8649  8836  9025  9216  9409  9604  9801 10000]]\n",
      "\n",
      "Elements divisible by 3:\n",
      " [   9   36   81  144  225  324  441  576  729  900 1089 1296 1521 1764\n",
      " 2025 2304 2601 2916 3249 3600 3969 4356 4761 5184 5625 6084 6561 7056\n",
      " 7569 8100 8649 9216 9801]\n",
      "\n",
      "Array saved as 'div_by_3.npy'\n"
     ]
    }
   ],
   "source": [
    "import numpy as np\n",
    "\n",
    "# Create an array of squares of the first 100 positive integers\n",
    "A = np.arange(1, 101) ** 2\n",
    "A = A.reshape(10, 10)   # reshape into 10x10\n",
    "\n",
    "# Find all elements divisible by 3\n",
    "div_by_3 = A[A % 3 == 0]\n",
    "\n",
    "# Save result\n",
    "np.save(\"div_by_3.npy\", div_by_3)\n",
    "\n",
    "# Print outputs\n",
    "print(\"10x10 Array (squares of first 100 integers):\\n\", A)\n",
    "print(\"\\nElements divisible by 3:\\n\", div_by_3)\n",
    "print(\"\\nArray saved as 'div_by_3.npy'\")\n"
   ]
  },
  {
   "cell_type": "code",
   "execution_count": null,
   "id": "6f407b95-62ba-4381-846a-fa1f364d4ca3",
   "metadata": {},
   "outputs": [],
   "source": []
  }
 ],
 "metadata": {
  "kernelspec": {
   "display_name": "Python [conda env:base] *",
   "language": "python",
   "name": "conda-base-py"
  },
  "language_info": {
   "codemirror_mode": {
    "name": "ipython",
    "version": 3
   },
   "file_extension": ".py",
   "mimetype": "text/x-python",
   "name": "python",
   "nbconvert_exporter": "python",
   "pygments_lexer": "ipython3",
   "version": "3.13.5"
  }
 },
 "nbformat": 4,
 "nbformat_minor": 5
}
